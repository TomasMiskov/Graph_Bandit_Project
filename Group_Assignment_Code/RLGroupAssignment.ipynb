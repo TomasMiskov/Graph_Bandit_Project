{
  "nbformat": 4,
  "nbformat_minor": 0,
  "metadata": {
    "colab": {
      "provenance": []
    },
    "kernelspec": {
      "name": "python3",
      "display_name": "Python 3"
    },
    "language_info": {
      "name": "python"
    }
  },
  "cells": [
    {
      "cell_type": "code",
      "execution_count": null,
      "metadata": {
        "id": "DLazFapOx2hf"
      },
      "outputs": [],
      "source": [
        "import numpy as np\n",
        "import matplotlib.pyplot as plt\n",
        "import pandas as pd\n",
        "from tqdm import tqdm"
      ]
    },
    {
      "cell_type": "code",
      "source": [
        "# Import data\n",
        "df = pd.read_csv(\".../zozo_Context_80items.csv\", index_col = 0)\n",
        "df.head()\n",
        " "
      ],
      "metadata": {
        "id": "D1y_Uz9Qyf_v"
      },
      "execution_count": null,
      "outputs": []
    },
    {
      "cell_type": "code",
      "source": [
        "def CombineNames(N1,N2):\n",
        "    '''\n",
        "    Create a tuple of two inputs\n",
        "    '''\n",
        "    return (N1,N2)\n",
        "    \n",
        "df.item_id = df.item_id-1\n",
        "\n",
        "## We apply CombineNames to create new arms consisting (item,pos)\n",
        "df['NArm'] = list(map(CombineNames,df.item_id,df.position))\n",
        "\n",
        "\n",
        "## In order to keep realtion betwwen actual (item,pos) to new created arm, we use a dictionary\n",
        "NArmIDDict = dict(zip(df.NArm.unique(),range(len(df.NArm.unique()))))\n",
        "# Also the filpped version of dictionary for final analysis\n",
        "NArmIDDictFlipped =  {v: k for k, v in NArmIDDict.items()}\n",
        "\n",
        "# We create a new column using defined dictionary\n",
        "df['NArmID'] = df['NArm'].map(NArmIDDict)"
      ],
      "metadata": {
        "id": "usygTZy1yBec"
      },
      "execution_count": null,
      "outputs": []
    },
    {
      "cell_type": "code",
      "source": [
        "def GetPotentialSort(PotentialArmsID, n_max =3):\n",
        "    '''\n",
        "    Considering a sorted list of arms [ (item, pos)] based on their score,\n",
        "       this function returns first ''n_max'' of arms that their \"pos\" don't overlap each other\n",
        "    '''\n",
        "    SelectedAtmsID = []\n",
        "    StoredArmsID = []\n",
        "    selected_products = set()\n",
        "    selected_positions = set()\n",
        "\n",
        "    while (n_max>0) and len(PotentialArmsID)>0:\n",
        "\n",
        "        ItemID = PotentialArmsID[0]\n",
        "        Item = NArmIDDictFlipped[ItemID]\n",
        "\n",
        "        if (Item[0] not in selected_products) and (Item[1] not in selected_positions):\n",
        "            SelectedAtmsID.append(ItemID)\n",
        "            StoredArmsID.append(ItemID)\n",
        "            selected_products.add(Item[0])\n",
        "            selected_positions.add(Item[1])\n",
        "            n_max = n_max-1\n",
        "\n",
        "        PotentialArmsID = PotentialArmsID[1:]\n",
        "\n",
        "    return np.array(SelectedAtmsID)\n",
        "\n"
      ],
      "metadata": {
        "id": "6QxUyH3cyI8A"
      },
      "execution_count": null,
      "outputs": []
    },
    {
      "cell_type": "markdown",
      "source": [
        "## Random Sampling"
      ],
      "metadata": {
        "id": "88m3kaFMy1oq"
      }
    },
    {
      "cell_type": "code",
      "source": [
        "\n",
        "\n",
        "def RandomChooseArm( n_arms, n_max = 3):\n",
        "    ## Random shuffle to choose first 3 arms \n",
        "\n",
        "    armsList= list(range(n_arms))\n",
        "    np.random.shuffle(armsList)\n",
        "\n",
        "    selectedArms = GetPotentialSort(armsList, n_max =3)\n",
        "\n",
        "    return selectedArms\n",
        "\n",
        "\n",
        "def RandomSimulator(NArmIDV, clickV, indices, n_arms, n_steps):\n",
        "    \n",
        "    draws = np.zeros((n_steps*3, 3))\n",
        "    \n",
        "    k=0\n",
        "    for i in range(n_steps):\n",
        "        arms = RandomChooseArm(n_arms)\n",
        "\n",
        "        for arm in arms:\n",
        "            armIndex = np.where(NArmIDV==arm)[0][0]\n",
        "            reward = clickV[armIndex]\n",
        "            ind = indices[armIndex]\n",
        "\n",
        "            NArmIDV = np.delete(NArmIDV, armIndex)\n",
        "            clickV = np.delete(clickV, armIndex)\n",
        "            indices = np.delete(indices, armIndex)\n",
        "\n",
        "            draws[k] = np.array([arm, reward, ind])\n",
        "            k += 1\n",
        "\n",
        "    return draws"
      ],
      "metadata": {
        "id": "V3EvpjGNy2Dx"
      },
      "execution_count": null,
      "outputs": []
    },
    {
      "cell_type": "markdown",
      "source": [
        "## Thompson Sampling"
      ],
      "metadata": {
        "id": "txhuo260yPrY"
      }
    },
    {
      "cell_type": "code",
      "source": [
        "def THChooseArm(alphas, betas, n_arms, sample_size = 100, n_max = 3):\n",
        "    # Sampling \"\"sample_size\"\" number of alphas and betas for arms using beta distribution\n",
        "    samples = np.random.beta(alphas, betas, size = (sample_size, n_arms))\n",
        "\n",
        "    # Averaging values of \"\"sample_size\"\" samples\n",
        "    means = samples.mean(axis = 0)\n",
        "\n",
        "    # Sorting arms and extracting their indices in the np.array\n",
        "    meansID = np.argsort(means)[::-1]\n",
        "\n",
        "    # making sure that the arms don't overlap in their \"pos\"\n",
        "    SelectedAtmsID = GetPotentialSort(meansID, n_max = n_max)\n",
        "\n",
        "    return SelectedAtmsID\n",
        "\n",
        "\n",
        "def THsimulator(NArmIDV, clickV, indices, n_arms, n_steps, batch_size = 1):\n",
        "\n",
        "    # Starting with alpha = 1 and beta =1 for all arms\n",
        "    alphas = np.ones(n_arms)\n",
        "    betas = np.ones(n_arms)\n",
        "    \n",
        "    draws = np.zeros((n_steps * 3, 3))\n",
        "    \n",
        "    k = 0\n",
        "    \n",
        "    alphas_batch = np.ones(n_arms)\n",
        "    betas_batch = np.ones(n_arms)\n",
        "    \n",
        "    for i in range(n_steps):\n",
        "        arms = THChooseArm(alphas, betas, n_arms)\n",
        "        \n",
        "        for arm in arms:\n",
        "            armIndex = np.where(NArmIDV == arm)[0][0]\n",
        "            reward = clickV[armIndex]\n",
        "            ind = indices[armIndex]\n",
        "\n",
        "            NArmIDV = np.delete(NArmIDV, armIndex)\n",
        "            clickV = np.delete(clickV, armIndex)\n",
        "            indices = np.delete(indices, armIndex)\n",
        "\n",
        "            draws[k] = np.array([arm, reward, ind])\n",
        "            k+=1\n",
        "\n",
        "            alphas_batch[arm] =  alphas_batch[arm  ] + reward\n",
        "            betas_batch[arm ] =  betas_batch[arm ] + 1 - reward\n",
        "        \n",
        "        # Updaring every \"batch_size\" steps of simulation\n",
        "        if i % batch_size == 0:\n",
        "            alphas = alphas_batch\n",
        "            betas = betas_batch\n",
        "        \n",
        "    return alphas, betas, draws"
      ],
      "metadata": {
        "id": "sayoFRj0yLFI"
      },
      "execution_count": null,
      "outputs": []
    },
    {
      "cell_type": "code",
      "source": [],
      "metadata": {
        "id": "V67TbTl7yI_Y"
      },
      "execution_count": null,
      "outputs": []
    },
    {
      "cell_type": "markdown",
      "source": [
        "## UCB "
      ],
      "metadata": {
        "id": "ILtlx6l2yxMA"
      }
    },
    {
      "cell_type": "code",
      "source": [
        "# UCB\n",
        "def chooseArmUCB(draws, c = 0.1):\n",
        "    t = len(draws)\n",
        "    draws_arms = draws[:, 0]\n",
        "    draws_rews = draws[:, 1]\n",
        "    \n",
        "    UCB_indices = []\n",
        "\n",
        "    # Calculating UCB value for each arm\n",
        "    for arm in np.unique(draws_arms):\n",
        "        \n",
        "        arm_obs = (draws_arms == arm).sum()\n",
        "        arm_total_rew = (draws_rews[draws_arms == arm]).sum()\n",
        "        avg_rew = arm_total_rew/arm_obs\n",
        "        Ut = (np.log(t)/arm_obs) ** 0.5\n",
        "        UCB = avg_rew + c * Ut + np.random.normal(0, 0.00001) # error for robustness\n",
        "        \n",
        "        UCB_indices.append(UCB)\n",
        "\n",
        "    # making sure that the sorted arms don't overlap in their \"pos\"\n",
        "    SelectedAtmsID = GetPotentialSort(np.argsort(UCB_indices)[::-1], n_max = 3)\n",
        "\n",
        "    return SelectedAtmsID\n",
        "\n",
        "\n",
        "def simulatorUCB(NArmIDV, clickV, indices, n_arms, n_steps, c = 0.1):\n",
        "    \n",
        "    draws = np.zeros((n_steps * 3 + n_arms, 3))\n",
        "    \n",
        "    # Initialization of arms\n",
        "    for arm in range(n_arms):\n",
        "        armIndex = np.where(NArmIDV == arm)[0][0]\n",
        "        reward = clickV[armIndex]\n",
        "        ind = indices[armIndex]\n",
        "\n",
        "        NArmIDV = np.delete(NArmIDV, armIndex)\n",
        "        clickV = np.delete(clickV, armIndex)\n",
        "        indices = np.delete(indices, armIndex)\n",
        "\n",
        "        draws[arm] = np.array([arm, reward, ind])\n",
        "        \n",
        "    k = n_arms\n",
        "    for i in range(n_arms, n_steps + n_arms):\n",
        "        arms = chooseArmUCB(draws[:k], c)\n",
        "\n",
        "        for arm in arms:\n",
        "            armIndex = np.where(NArmIDV==arm)[0][0]\n",
        "            reward = clickV[armIndex]\n",
        "            ind = indices[armIndex]\n",
        "\n",
        "            NArmIDV = np.delete(NArmIDV, armIndex)\n",
        "            clickV = np.delete(clickV, armIndex)\n",
        "            indices = np.delete(indices, armIndex)\n",
        "\n",
        "            draws[k] = np.array([arm, reward, ind])\n",
        "            k += 1\n",
        "        \n",
        "    return draws"
      ],
      "metadata": {
        "id": "FMA1QXG6yW0S"
      },
      "execution_count": null,
      "outputs": []
    },
    {
      "cell_type": "markdown",
      "source": [
        "## Simulation"
      ],
      "metadata": {
        "id": "cKP0WIWbyXv0"
      }
    },
    {
      "cell_type": "code",
      "source": [
        "import random\n",
        "## Setting random states for simulation \n",
        "random_states = [2321, 3577, 4722, 1518, 2667, 2110, 3500, 2151, 4197, 3729]\n",
        "\n",
        "ResultDict = {}\n",
        "NumSimulation = 10"
      ],
      "metadata": {
        "id": "Z-SZt5FHyW9Y"
      },
      "execution_count": null,
      "outputs": []
    },
    {
      "cell_type": "code",
      "source": [
        "n_arms= len(df.NArmID.unique())\n",
        "\n",
        "for I in tqdm(range(10)):\n",
        "    dfShuffled = df.sample(frac=1, random_state=random_states[I])\n",
        "    NArmIDV = dfShuffled.NArmID.values # arms\n",
        "    clickV  = dfShuffled.click.values  # rewards\n",
        "    indices = dfShuffled.index.values  # sample data indices in actual data\n",
        "\n",
        "    ResultDict[I] = THsimulator(NArmIDV, clickV, indices, n_arms , n_steps = 10000)\n",
        "\n",
        "\n",
        "    # ResultDict[I] = RandomSimulator(NArmIDV, clickV, indices, n_arms, n_steps = 10000)\n",
        "\n",
        "\n",
        "    # ResultDict[I] = simulatorUCB(NArmIDV, clickV, indices, n_arms , n_steps = 10000, c = 0.5)\n"
      ],
      "metadata": {
        "id": "HdbpjdZbyBhw"
      },
      "execution_count": null,
      "outputs": []
    },
    {
      "cell_type": "code",
      "source": [],
      "metadata": {
        "id": "idD8bNtKyloq"
      },
      "execution_count": null,
      "outputs": []
    }
  ]
}