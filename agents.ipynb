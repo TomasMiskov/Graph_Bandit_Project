{
 "cells": [
  {
   "cell_type": "code",
   "execution_count": 4,
   "id": "dc0680ec",
   "metadata": {},
   "outputs": [],
   "source": [
    "import numpy as np\n",
    "import networkx as nx"
   ]
  },
  {
   "cell_type": "code",
   "execution_count": 5,
   "id": "c0c67b77",
   "metadata": {},
   "outputs": [],
   "source": [
    "def calcUCB(env, edges = None):\n",
    "    \"\"\"\n",
    "    Function to calculate the current UCB indices\n",
    "    \"\"\"\n",
    "    if edges is None:\n",
    "        edges = env.G.edges\n",
    "        \n",
    "    edges_visits = np.array([len(env.G.edges[e][\"rewards\"]) for e in edges])\n",
    "    edges_total_rew = np.array([sum(env.G.edges[e][\"rewards\"]) for e in edges])\n",
    "    edges_avg_rew = edges_total_rew/edges_visit\n",
    "        \n",
    "    T = len(env.visited_edges)\n",
    "    \n",
    "    ucb = edges_avg_rew + np.sqrt(2 * np.log(T) / edges_visits)\n",
    "    \n",
    "    for i, e in enumerate(edges):\n",
    "        self.G.edges[e][\"ucb\"] = ucb[i]\n",
    "\n",
    "def graphAwareAgent(env):\n",
    "    \n",
    "    calcUCB(env)\n",
    "    shortest_path = nx.dijkstra_path(env.G, env.pos, env.target, lambda i, j, edge_dict: -edge_dict[\"ucb\"])\n",
    "    env.step(shortest_path[0])\n",
    "    \n",
    "    \n",
    "def localUCBAgent():\n",
    "    raise NotImplemented\n",
    "    \n",
    "def localUCBAgent():\n",
    "    raise NotImplemented"
   ]
  }
 ],
 "metadata": {
  "kernelspec": {
   "display_name": "Python 3 (ipykernel)",
   "language": "python",
   "name": "python3"
  },
  "language_info": {
   "codemirror_mode": {
    "name": "ipython",
    "version": 3
   },
   "file_extension": ".py",
   "mimetype": "text/x-python",
   "name": "python",
   "nbconvert_exporter": "python",
   "pygments_lexer": "ipython3",
   "version": "3.9.0"
  }
 },
 "nbformat": 4,
 "nbformat_minor": 5
}
