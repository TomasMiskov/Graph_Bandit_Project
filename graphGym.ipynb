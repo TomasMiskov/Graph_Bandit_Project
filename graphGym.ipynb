{
 "cells": [
  {
   "cell_type": "code",
   "execution_count": 1,
   "id": "074f6fbb",
   "metadata": {},
   "outputs": [],
   "source": [
    "class GraphBandit:\n",
    "    \n",
    "    def __init__(self, G, init_weights = None, init_node = (0, 0), target_node = (7, 7)):\n",
    "        \n",
    "        # Graph\n",
    "        self.G = G.copy()\n",
    "        \n",
    "        # Size\n",
    "        self.nV = len(self.V)\n",
    "        self.nE = len(self.E)\n",
    "        \n",
    "        # Weights & UCB Params\n",
    "        if init_weight == None:\n",
    "            init_weights = np.random.uniform(1, 10, size = self.nE)\n",
    "        else:\n",
    "            assert len(init_weights) == self.nE, f\"Weights don't match the number of edges. Provide {self.nE} weights\"\n",
    "        \n",
    "        for i, e in enumerate(self.G.edges):\n",
    "            self.G.edges[e][\"weight\"] = init_weights[i]\n",
    "            self.G.edges[e][\"max_traffic\"] = np.random.uniform(0, 10)\n",
    "            self.G.edges[e][\"rewards\"] = [-init_weights[i]]\n",
    "            self.G.edges[e][\"ucb\"] = -init_weights[i]\n",
    "        \n",
    "        # Current & target position\n",
    "        self.pos = init_node\n",
    "        self.source = init_node\n",
    "        self.target = target_node\n",
    "        \n",
    "        # Gym State Tracking\n",
    "        self.init_weights = {e: self.G.edges[e][\"weight\"] for e in self.G.edges}\n",
    "        self.expected_rewards = {e: self.G.edges[e][\"weight\"] + self.G.edges[e][\"max_traffic\"]/2 for e in self.G.edges}\n",
    "        self.visited_nodes = [init_node]\n",
    "        self.visited_edges = []\n",
    "        self.visited_expected_rewards = []\n",
    "        \n",
    "    def step(self, node):\n",
    "        # Denote edge to be taken\n",
    "        e = (self.pos, node)\n",
    "        self.visited_nodes.append(node)\n",
    "        self.visited_edges.append(e)\n",
    "        self.visited_expected_rewards.append(self.init_weights[e])\n",
    "        \n",
    "        # Move along it\n",
    "        self.pos = node\n",
    "        \n",
    "        # Sample reward\n",
    "        reward = self.G.edges[e][\"weight\"] + np.random.uniform(0, self.G.edges[e][\"max_traffic\"])\n",
    "        self.G.edges[e][\"rewards\"].append(-reward)  \n",
    "        \n",
    "        # Reset position if target is reached\n",
    "        if self.pos == self.target:\n",
    "            self.pos = self.source "
   ]
  }
 ],
 "metadata": {
  "kernelspec": {
   "display_name": "Python 3 (ipykernel)",
   "language": "python",
   "name": "python3"
  },
  "language_info": {
   "codemirror_mode": {
    "name": "ipython",
    "version": 3
   },
   "file_extension": ".py",
   "mimetype": "text/x-python",
   "name": "python",
   "nbconvert_exporter": "python",
   "pygments_lexer": "ipython3",
   "version": "3.9.0"
  }
 },
 "nbformat": 4,
 "nbformat_minor": 5
}
