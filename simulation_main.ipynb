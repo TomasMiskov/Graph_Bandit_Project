{
 "cells": [
  {
   "cell_type": "code",
   "execution_count": 1,
   "id": "9158bc62",
   "metadata": {},
   "outputs": [],
   "source": [
    "# Standard libraries\n",
    "import networkx as nx\n",
    "import numpy as np\n",
    "from time import perf_counter\n",
    "import pickle\n",
    "\n",
    "# Custom functions\n",
    "from graphGym import GraphBandit\n",
    "from agents import everyEdgeAgent, everyPathAgent, samplingAgentSample, samplingAgentExecute\n",
    "from agents import locallyDirectedAgent, staticWorldAgent"
   ]
  },
  {
   "cell_type": "markdown",
   "id": "a9b67427",
   "metadata": {},
   "source": [
    "### Create Graph and Random Seeds for Reproducibility"
   ]
  },
  {
   "cell_type": "code",
   "execution_count": 4,
   "id": "78182043",
   "metadata": {},
   "outputs": [],
   "source": [
    "# Define grid graph\n",
    "G = nx.grid_2d_graph(8, 8)       # 8x8 grid\n",
    "source_node = list(G.nodes)[0]   # node (0, 0) is soure\n",
    "target_node = list(G.nodes)[-1]  # node (7, 7) is target"
   ]
  },
  {
   "cell_type": "code",
   "execution_count": 5,
   "id": "0dbc26f4",
   "metadata": {},
   "outputs": [
    {
     "name": "stdout",
     "output_type": "stream",
     "text": [
      "The seeds for graph initializations are: [27792 21786 78175 74891  6284 44355 17676 59784 88665 29718 68506 57027\n",
      " 56785 82791 17467  3450 53574 39049 56271 31358 59978 52556 64189 63215\n",
      " 90416]\n"
     ]
    }
   ],
   "source": [
    "# Create random seeds for reproducibility\n",
    "np.random.seed(101010)\n",
    "ten_seeds = np.random.randint(1e5, size = 25)\n",
    "print(f\"The seeds for graph initializations are: {ten_seeds}\")"
   ]
  },
  {
   "cell_type": "markdown",
   "id": "da316a64",
   "metadata": {},
   "source": [
    "### Main simulations"
   ]
  },
  {
   "cell_type": "code",
   "execution_count": 72,
   "id": "6206c5e2",
   "metadata": {},
   "outputs": [],
   "source": [
    "# SIMULATE everyPathAgent\n",
    "N_bits = 1e2\n",
    "results = []\n",
    "\n",
    "for seed in ten_seeds:\n",
    "    env = GraphBandit(G, init_node = source_node, target_node = target_node, seed = seed)\n",
    "    \n",
    "    start_time = perf_counter()\n",
    "    while len(env.paths) < N_bits:\n",
    "        everyPathAgent(env)\n",
    "    \n",
    "    end_time = perf_counter()\n",
    "    env.total_time = round(end_time - start_time, 3)\n",
    "    \n",
    "    results.append(env)\n",
    "    \n",
    "with open(r\".\\Results\\every_path_agent.pickle\", \"wb\") as file:\n",
    "    pickle.dump(results, file)"
   ]
  },
  {
   "cell_type": "code",
   "execution_count": 73,
   "id": "aad67874",
   "metadata": {},
   "outputs": [],
   "source": [
    "# SIMULATE samplingAgent with 5 samples per edge\n",
    "N_bits = 1e2\n",
    "results = []\n",
    "\n",
    "for seed in ten_seeds:\n",
    "    env = GraphBandit(G, init_node = source_node, target_node = target_node, seed = seed)\n",
    "    \n",
    "    k_samples = 5   # 80 messages out of 100 used for sampling\n",
    "    samplingAgentSample(env, k_samples, verbose = False)\n",
    "    \n",
    "    start_time = perf_counter()\n",
    "    while len(env.paths) < N_bits:\n",
    "        samplingAgentExecute(env)\n",
    "    \n",
    "    end_time = perf_counter()\n",
    "    env.total_time = round(end_time - start_time, 3)\n",
    "    \n",
    "    results.append(env)\n",
    "    \n",
    "with open(r\".\\Results\\sampling_agent_k5.pickle\", \"wb\") as file:\n",
    "    pickle.dump(results, file)"
   ]
  },
  {
   "cell_type": "code",
   "execution_count": 74,
   "id": "f015f944",
   "metadata": {},
   "outputs": [],
   "source": [
    "# SIMULATE samplingAgent with 3 samples per edge\n",
    "N_bits = 1e2\n",
    "results = []\n",
    "\n",
    "for seed in ten_seeds:\n",
    "    env = GraphBandit(G, init_node = source_node, target_node = target_node, seed = seed)\n",
    "    \n",
    "    k_samples = 3   # 48 messages out of 100 used for sampling\n",
    "    samplingAgentSample(env, k_samples, verbose = False)\n",
    "    \n",
    "    start_time = perf_counter()\n",
    "    while len(env.paths) < N_bits:\n",
    "        samplingAgentExecute(env)\n",
    "    \n",
    "    end_time = perf_counter()\n",
    "    env.total_time = round(end_time - start_time, 3)\n",
    "    \n",
    "    results.append(env)\n",
    "    \n",
    "with open(r\".\\Results\\sampling_agent_k3.pickle\", \"wb\") as file:\n",
    "    pickle.dump(results, file)"
   ]
  },
  {
   "cell_type": "code",
   "execution_count": 10,
   "id": "495a9e21",
   "metadata": {},
   "outputs": [],
   "source": [
    "# SIMULATE samplingAgent with 1 sample per edge\n",
    "N_bits = 1e2\n",
    "results = []\n",
    "\n",
    "for seed in ten_seeds:\n",
    "    env = GraphBandit(G, init_node = source_node, target_node = target_node, seed = seed)\n",
    "    \n",
    "    k_samples = 1   # 16 messages out of 100 used for sampling\n",
    "    samplingAgentSample(env, k_samples, verbose = False)\n",
    "    \n",
    "    start_time = perf_counter()\n",
    "    while len(env.paths) < N_bits:\n",
    "        samplingAgentExecute(env)\n",
    "    \n",
    "    end_time = perf_counter()\n",
    "    env.total_time = round(end_time - start_time, 3)\n",
    "    \n",
    "    results.append(env)\n",
    "    \n",
    "with open(r\".\\Results\\sampling_agent_k1.pickle\", \"wb\") as file:\n",
    "    pickle.dump(results, file)"
   ]
  },
  {
   "cell_type": "code",
   "execution_count": 75,
   "id": "05f0965e",
   "metadata": {},
   "outputs": [],
   "source": [
    "# SIMULATE locallyDirectedAgent\n",
    "N_bits = 1e2\n",
    "results = []\n",
    "\n",
    "for seed in ten_seeds:\n",
    "    env = GraphBandit(G, init_node = source_node, target_node = target_node, seed = seed)\n",
    "    \n",
    "    start_time = perf_counter()\n",
    "    while len(env.paths) < N_bits:\n",
    "        locallyDirectedAgent(env)\n",
    "    \n",
    "    end_time = perf_counter()\n",
    "    env.total_time = round(end_time - start_time, 3)\n",
    "    \n",
    "    results.append(env)\n",
    "    \n",
    "with open(r\".\\Results\\locally_directed_agent.pickle\", \"wb\") as file:\n",
    "    pickle.dump(results, file)"
   ]
  },
  {
   "cell_type": "code",
   "execution_count": 76,
   "id": "1388e617",
   "metadata": {},
   "outputs": [],
   "source": [
    "# SIMULATE staticWorldAgent\n",
    "N_bits = 1e2\n",
    "results = []\n",
    "\n",
    "for seed in ten_seeds:\n",
    "    env = GraphBandit(G, init_node = source_node, target_node = target_node, seed = seed)\n",
    "    \n",
    "    start_time = perf_counter()\n",
    "    while len(env.paths) < N_bits:\n",
    "        staticWorldAgent(env)\n",
    "    \n",
    "    end_time = perf_counter()\n",
    "    env.total_time = round(end_time - start_time, 3)\n",
    "    \n",
    "    results.append(env)\n",
    "    \n",
    "with open(r\".\\Results\\static_world_agent.pickle\", \"wb\") as file:\n",
    "    pickle.dump(results, file)"
   ]
  },
  {
   "cell_type": "markdown",
   "id": "a06857c7",
   "metadata": {},
   "source": [
    "### Ablation c-parameter"
   ]
  },
  {
   "cell_type": "code",
   "execution_count": 8,
   "id": "92fcbce1",
   "metadata": {},
   "outputs": [],
   "source": [
    "# SIMULATE everyPathAgent with c = 0.2\n",
    "N_bits = 1e2\n",
    "results = []\n",
    "\n",
    "for seed in ten_seeds:\n",
    "    env = GraphBandit(G, init_node = source_node, target_node = target_node, seed = seed)\n",
    "    \n",
    "    start_time = perf_counter()\n",
    "    while len(env.paths) < N_bits:\n",
    "        everyPathAgent(env, c = 0.2)\n",
    "    \n",
    "    end_time = perf_counter()\n",
    "    env.total_time = round(end_time - start_time, 3)\n",
    "    \n",
    "    results.append(env)\n",
    "    \n",
    "with open(r\".\\Results\\every_path_agent_c02.pickle\", \"wb\") as file:\n",
    "    pickle.dump(results, file)"
   ]
  },
  {
   "cell_type": "code",
   "execution_count": 9,
   "id": "b5c4cb9e",
   "metadata": {},
   "outputs": [],
   "source": [
    "# SIMULATE everyPathAgent with c = 20\n",
    "N_bits = 1e2\n",
    "results = []\n",
    "\n",
    "for seed in ten_seeds:\n",
    "    env = GraphBandit(G, init_node = source_node, target_node = target_node, seed = seed)\n",
    "    \n",
    "    start_time = perf_counter()\n",
    "    while len(env.paths) < N_bits:\n",
    "        everyPathAgent(env, c = 20)\n",
    "    \n",
    "    end_time = perf_counter()\n",
    "    env.total_time = round(end_time - start_time, 3)\n",
    "    \n",
    "    results.append(env)\n",
    "    \n",
    "with open(r\".\\Results\\every_path_agent_c20.pickle\", \"wb\") as file:\n",
    "    pickle.dump(results, file)"
   ]
  }
 ],
 "metadata": {
  "kernelspec": {
   "display_name": "Python 3 (ipykernel)",
   "language": "python",
   "name": "python3"
  },
  "language_info": {
   "codemirror_mode": {
    "name": "ipython",
    "version": 3
   },
   "file_extension": ".py",
   "mimetype": "text/x-python",
   "name": "python",
   "nbconvert_exporter": "python",
   "pygments_lexer": "ipython3",
   "version": "3.9.0"
  }
 },
 "nbformat": 4,
 "nbformat_minor": 5
}
